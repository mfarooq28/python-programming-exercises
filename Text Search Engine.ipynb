{
 "cells": [
  {
   "cell_type": "code",
   "execution_count": 59,
   "metadata": {},
   "outputs": [
    {
     "name": "stdout",
     "output_type": "stream",
     "text": [
      "page 2: Amet porttitor Waldo eget dolor morbi non arcu risus\n",
      "page 7: Risus nec feugiat in Waldo fermentum posuere urna nec tincidunt praesent\n",
      "page 10: Quisque sagittis purus sit Waldo amet volutpat consequat mauris\n",
      "page 12: Quisque id Waldo diam vel quam elementum pulvinar etiam non\n",
      "page 15: Condimentum id venenatis a condimentum Waldo vitae\n",
      "page 17: Faucibus interdum posuere lorem ipsum Waldo dolor sit amet consectetur\n",
      "page 20: Non Waldo arcu risus quis varius quam quisque id diam\n",
      "page 25: Mattis Waldo enim ut tellus elementum sagittis vitae et\n",
      "page 26: Posuere urna nec tincidunt praesent semper Waldo feugiat nibh sed pulvinar\n"
     ]
    }
   ],
   "source": [
    "from PyPDF2 import PdfFileReader, PdfFileWriter\n",
    "from pathlib import Path\n",
    "import re\n",
    "\n",
    "# Create pdf file reader object\n",
    "pdf = PdfFileReader('lorem.pdf')\n",
    "\n",
    "# TWO STEPS TO EXTRACT TEXT \n",
    "# Step 1: Grab the Page(s)\n",
    "page_1_object = pdf.getPage(0)\n",
    "\n",
    "# Step 2: Extract Text\n",
    "page_1_text = page_1_object.extractText()\n",
    "\n",
    "# Combine the text from all the pages and save as txt file\n",
    "with Path('lorem_text.txt').open(mode='w') as output_file:\n",
    "    text = ''\n",
    "    for page in pdf.pages:\n",
    "        text += page.extractText()\n",
    "    output_file.write(text)\n",
    "\n",
    "# Where's Waldo?\n",
    "waldo_pages = []\n",
    "for page in pdf.pages:\n",
    "    page_num = page['/StructParents'] # if yo uwant to see the actual page number +1\n",
    "    page_text = page.extractText()\n",
    "\n",
    "    if 'Waldo' in page_text: # page_text.find('Waldo') for index position of Waldo\n",
    "        waldo_pages.append(page_num)\n",
    "\n",
    "# Save Waldo pages to pdf\n",
    "\n",
    "# create PdfFileReader object\n",
    "input_pdf = PdfFileReader('lorem.pdf')\n",
    "\n",
    "# create PdfFilerWriter object\n",
    "pdf_writer = PdfFileWriter()\n",
    "\n",
    "# Get the Text from Pages with Waldo\n",
    "for page in waldo_pages:\n",
    "    page_object = input_pdf.getPage(page)\n",
    "    pdf_writer.addPage(page_object)\n",
    "\n",
    "# Save Pages as PDF\n",
    "with Path('waldo_pages.pdf').open(mode='wb') as output_file_2:\n",
    "    pdf_writer.write(output_file_2)\n",
    "\n",
    "# Where's Waldo - Get Sentence & Page Number\n",
    "pages_sentences = []\n",
    "for page in pdf.pages:\n",
    "    page_num = page['/StructParents'] # if yo uwant to see the actual page number +1\n",
    "    page_text = page.extractText()\n",
    "\n",
    "    if 'Waldo' in page_text: # page_text.find('Waldo') for index position of Waldo\n",
    "        sentence_list = ['page ' + str(page_num) + ': ' + sentence.replace('\\n', '') for sentence in re.split('\\.\\W+|\\?\\W+|\\!\\W+', page_text) if 'Waldo' in sentence][0]\n",
    "        pages_sentences.append(sentence_list)\n",
    "\n",
    "text = '\\n'.join(pages_sentences)\n",
    "\n",
    "# cannot create new pdf from scratch (could use fpdf2 if need pdf)\n",
    "with Path('waldo_sentences_pages.txt').open(mode='w') as output_file_3:\n",
    "    output_file_3.write(text)\n",
    "\n",
    "f = open('waldo_sentences_pages.txt', 'r', encoding=\"ascii\")\n",
    "file_contents = f.read()\n",
    "print(file_contents)\n"
   ]
  },
  {
   "cell_type": "code",
   "execution_count": null,
   "metadata": {},
   "outputs": [],
   "source": []
  }
 ],
 "metadata": {
  "kernelspec": {
   "display_name": "Python 3 (ipykernel)",
   "language": "python",
   "name": "python3"
  },
  "language_info": {
   "codemirror_mode": {
    "name": "ipython",
    "version": 3
   },
   "file_extension": ".py",
   "mimetype": "text/x-python",
   "name": "python",
   "nbconvert_exporter": "python",
   "pygments_lexer": "ipython3",
   "version": "3.8.5"
  }
 },
 "nbformat": 4,
 "nbformat_minor": 4
}
