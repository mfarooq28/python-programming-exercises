{
 "cells": [
  {
   "cell_type": "markdown",
   "metadata": {},
   "source": [
    "# Assignment No.1\n",
    "# Muhammad Farooq\n",
    "# 182-FBAS/PHDCS/F21\n"
   ]
  },
  {
   "cell_type": "markdown",
   "metadata": {},
   "source": [
    "# Calculation of Cost/ Loss Functions\n",
    "Overview of Loss Functions in Machine Learning In Machine learning, the loss function is determined as the difference between the actual output and the predicted output from the model for the single training example while the average of the loss function for all the training example is termed as the cost function."
   ]
  },
  {
   "cell_type": "markdown",
   "metadata": {},
   "source": [
    "### Describing every binary classifier, If classification involves a combination of features then we need to describe some combination of thresholds for each feature, or (equivalently) some relationship between the features that tells you about the class label. It's the job of every binary classifier to do exactly this - they just do it in different ways. "
   ]
  },
  {
   "cell_type": "markdown",
   "metadata": {},
   "source": [
    "### Binary classification is a form of classification — the process of predicting categorical variables — where the output is restricted to two classes. Binary classification is used in many different data science applications, such as:\n",
    "            Application\t0\t1\n",
    "Medical Diagnosis\tHealthy\tDiseased\n",
    "Email Analysis\tNot Spam\tSpam\n",
    "Financial Data Analysis\tNot Fraud\tFraud\n",
    "Marketing\tWon't Buy\tWill Buy\n"
   ]
  },
  {
   "cell_type": "code",
   "execution_count": 3,
   "metadata": {},
   "outputs": [
    {
     "name": "stdout",
     "output_type": "stream",
     "text": [
      "Mean Square Error 0.0018750000000000008\n",
      "The Difference \t [ 0.05  -0.05  -0.025]\n",
      "Absolute Mean Difference  [0.05  0.05  0.025]\n",
      "Mean Absolute Error is: 4.166666666666666%\n"
     ]
    }
   ],
   "source": [
    "import numpy as np\n",
    "y_pred_values = np.array([0.050, 0.150, 0.225])\n",
    "y_true_values = np.array([0.000, 0.200, 0.250])\n",
    "# Defining Mean Absolute Error loss function\n",
    "def mae(predicted, true):\n",
    "    # Findinf the  absolute difference\n",
    "    differences = predicted - true\n",
    "    mse = np.mean((y_true_values - y_pred_values)**2)\n",
    "    print(\"Mean Square Error\" , mse)\n",
    "    print(\"The Difference \\t\" , differences)\n",
    "    absolute_differences = np.absolute(differences)\n",
    "    # find the absolute mean\n",
    "    print(\"Absolute Mean Difference \" ,absolute_differences)\n",
    "    mean_absolute_error = absolute_differences.mean()\n",
    "    return mean_absolute_error\n",
    "    \n",
    "mae_value = mae(y_pred_values, y_true_values)\n",
    "mae_value_percent = (mae_value)*100\n",
    "print (\"Mean Absolute Error is: \" + str(mae_value_percent) + \"%\")"
   ]
  },
  {
   "cell_type": "code",
   "execution_count": 4,
   "metadata": {},
   "outputs": [
    {
     "name": "stdout",
     "output_type": "stream",
     "text": [
      "BCE error is: 43.80026924778343 %\n"
     ]
    }
   ],
   "source": [
    "y_pred = np.array([0.1580, 0.4137, 0.2285])\n",
    "y_true = np.array([0.0, 1.0, 0.0]) #2 labels: (0,1)\n",
    "def BCE(y_pred, y_true):\n",
    "    total_bce_loss = np.sum(-y_true * np.log(y_pred) - (1 - y_true) * np.log(1 - y_pred))\n",
    "    # Getting the mean BCE loss\n",
    "    num_of_samples = y_pred.shape[0]\n",
    "    mean_bce_loss = total_bce_loss / num_of_samples\n",
    "    return mean_bce_loss\n",
    "bce_value = BCE(y_pred, y_true)\n",
    "bce_value_percent = bce_value * 100\n",
    "print (\"BCE error is: \" + str(bce_value_percent)+ \" %\")"
   ]
  },
  {
   "cell_type": "code",
   "execution_count": null,
   "metadata": {},
   "outputs": [],
   "source": []
  }
 ],
 "metadata": {
  "kernelspec": {
   "display_name": "Python 3 (ipykernel)",
   "language": "python",
   "name": "python3"
  },
  "language_info": {
   "codemirror_mode": {
    "name": "ipython",
    "version": 3
   },
   "file_extension": ".py",
   "mimetype": "text/x-python",
   "name": "python",
   "nbconvert_exporter": "python",
   "pygments_lexer": "ipython3",
   "version": "3.8.5"
  }
 },
 "nbformat": 4,
 "nbformat_minor": 4
}
