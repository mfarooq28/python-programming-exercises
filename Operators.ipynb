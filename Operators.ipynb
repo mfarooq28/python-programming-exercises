{
 "cells": [
  {
   "cell_type": "code",
   "execution_count": 8,
   "id": "45df0292",
   "metadata": {},
   "outputs": [
    {
     "name": "stdout",
     "output_type": "stream",
     "text": [
      "['C:\\\\Users\\\\ptcl\\\\Documents\\\\Python Scripts', 'C:\\\\Users\\\\ptcl\\\\anaconda3\\\\python38.zip', 'C:\\\\Users\\\\ptcl\\\\anaconda3\\\\DLLs', 'C:\\\\Users\\\\ptcl\\\\anaconda3\\\\lib', 'C:\\\\Users\\\\ptcl\\\\anaconda3', '', 'C:\\\\Users\\\\ptcl\\\\anaconda3\\\\lib\\\\site-packages', 'C:\\\\Users\\\\ptcl\\\\anaconda3\\\\lib\\\\site-packages\\\\locket-0.2.1-py3.8.egg', 'C:\\\\Users\\\\ptcl\\\\anaconda3\\\\lib\\\\site-packages\\\\win32', 'C:\\\\Users\\\\ptcl\\\\anaconda3\\\\lib\\\\site-packages\\\\win32\\\\lib', 'C:\\\\Users\\\\ptcl\\\\anaconda3\\\\lib\\\\site-packages\\\\Pythonwin', 'C:\\\\Users\\\\ptcl\\\\anaconda3\\\\lib\\\\site-packages\\\\IPython\\\\extensions', 'C:\\\\Users\\\\ptcl\\\\.ipython']\n"
     ]
    },
    {
     "ename": "ModuleNotFoundError",
     "evalue": "No module named 'CommonClasses'",
     "output_type": "error",
     "traceback": [
      "\u001b[1;31m---------------------------------------------------------------------------\u001b[0m",
      "\u001b[1;31mModuleNotFoundError\u001b[0m                       Traceback (most recent call last)",
      "\u001b[1;32m~\\AppData\\Local\\Temp/ipykernel_7912/923608613.py\u001b[0m in \u001b[0;36m<module>\u001b[1;34m\u001b[0m\n\u001b[0;32m      3\u001b[0m \u001b[1;32mimport\u001b[0m \u001b[0msys\u001b[0m\u001b[1;33m\u001b[0m\u001b[1;33m\u001b[0m\u001b[0m\n\u001b[0;32m      4\u001b[0m \u001b[0mprint\u001b[0m\u001b[1;33m(\u001b[0m\u001b[0msys\u001b[0m\u001b[1;33m.\u001b[0m\u001b[0mpath\u001b[0m\u001b[1;33m)\u001b[0m\u001b[1;33m\u001b[0m\u001b[1;33m\u001b[0m\u001b[0m\n\u001b[1;32m----> 5\u001b[1;33m \u001b[1;32mfrom\u001b[0m \u001b[0mCommonClasses\u001b[0m\u001b[1;33m.\u001b[0m\u001b[0mfft\u001b[0m \u001b[1;32mimport\u001b[0m \u001b[1;33m*\u001b[0m\u001b[1;33m\u001b[0m\u001b[1;33m\u001b[0m\u001b[0m\n\u001b[0m\u001b[0;32m      6\u001b[0m \u001b[1;32mfrom\u001b[0m \u001b[0mCommonClasses\u001b[0m\u001b[1;33m.\u001b[0m\u001b[0mdct\u001b[0m \u001b[1;32mimport\u001b[0m \u001b[1;33m*\u001b[0m\u001b[1;33m\u001b[0m\u001b[1;33m\u001b[0m\u001b[0m\n\u001b[0;32m      7\u001b[0m \u001b[1;32mfrom\u001b[0m \u001b[0mCommonClasses\u001b[0m\u001b[1;33m.\u001b[0m\u001b[0mwalsh\u001b[0m \u001b[1;32mimport\u001b[0m \u001b[1;33m*\u001b[0m\u001b[1;33m\u001b[0m\u001b[1;33m\u001b[0m\u001b[0m\n",
      "\u001b[1;31mModuleNotFoundError\u001b[0m: No module named 'CommonClasses'"
     ]
    }
   ],
   "source": [
    "#from src.classfile import ClassName\n",
    "#from django.conf.urls import url, include\n",
    "import sys\n",
    "print(sys.path)\n",
    "from CommonClasses.fft import *\n",
    "from CommonClasses.dct import *\n",
    "from CommonClasses.walsh import *\n",
    "from CommonClasses.haar import *\n",
    "\n",
    "import numpy as np\n",
    "\n",
    "import matplotlib.pyplot as plt\n",
    "#%matplotlib inline\n",
    "\n",
    "#import matplotlib.image as img\n",
    "#import PIL.Image as Image \n",
    "from PIL import Image\n",
    "import math\n",
    "import cmath\n",
    "\n",
    "import time\n",
    "\n",
    "import csv\n",
    "\n",
    "from numpy import binary_repr\n",
    "\n",
    "from fractions import gcd"
   ]
  },
  {
   "cell_type": "code",
   "execution_count": null,
   "id": "2cbc4d76",
   "metadata": {},
   "outputs": [],
   "source": [
    "def constructDuv(N):\n",
    "    \"\"\"Constructs the frequency matrix, D(u,v), of size NxN\"\"\"\n",
    "    u = np.arange(N)\n",
    "    v = np.arange(N)\n",
    "\n",
    "    idx = np.where(u>N/2)[0]\n",
    "    u[idx] = u[idx] - N\n",
    "    idy = np.where(v>N/2)[0]\n",
    "    v[idy] = v[idx] - N\n",
    "\n",
    "    [V,U]= np.meshgrid(v,u)\n",
    "    D = np.sqrt(U**2 + V**2)\n",
    "    \n",
    "    return D"
   ]
  },
  {
   "cell_type": "code",
   "execution_count": null,
   "id": "90f0e7ee",
   "metadata": {},
   "outputs": [],
   "source": [
    "def computeLaplacian(Duv):\n",
    "    \"\"\"Computes laplacian operator in the Frequency Domain.\"\"\"\n",
    "    #(-4*math.pi)*\n",
    "    H = -1*(Duv**2)\n",
    "    return H"
   ]
  },
  {
   "cell_type": "code",
   "execution_count": null,
   "id": "6e0bcd30",
   "metadata": {},
   "outputs": [],
   "source": [
    "def computeGaussian(Duv, sigma):\n",
    "    \"\"\"Computes the gaussian operator in Frequency Domain.\"\"\"\n",
    "    gausExp = (0.5*(Duv**2)/(sigma**2))\n",
    "    #H = np.cos(gausExp)-(1j*np.sin(gausExp))\n",
    "    H = np.exp(-1*gausExp)\n",
    "    return H"
   ]
  },
  {
   "cell_type": "code",
   "execution_count": null,
   "id": "f0ce465e",
   "metadata": {},
   "outputs": [],
   "source": [
    "def computeLoG(fftImge, Duv, sigma):\n",
    "    \"\"\"Computes the laplacian of gaussian (LoG) of an image in frequency domain.\"\"\"\n",
    "    lap = computeLaplacian(Duv)\n",
    "    gaus = computeGaussian(Duv, sigma)\n",
    "    LoG = lap * (gaus*fftImge)\n",
    "    \n",
    "    return LoG"
   ]
  },
  {
   "cell_type": "code",
   "execution_count": null,
   "id": "0b67ac1c",
   "metadata": {},
   "outputs": [],
   "source": [
    "imge = Image.open(\"lena512color.tif\") # open an image\n",
    "imge = np.array(imge)\n",
    "\n",
    "sigmas = [10, 50, 100]\n",
    "N = imge.shape[0]\n",
    "F = FFT.computeFFT(imge)\n",
    "Duv = constructDuv(N)\n",
    "\n",
    "finalImges = []\n",
    "for i, sigma in enumerate(sigmas):\n",
    "    #lap = F*computeLaplacian(Duv)\n",
    "\n",
    "    log = computeLoG(F, Duv, sigma)\n",
    "    finalImges.append(FFT.computeInverseFFT(log))"
   ]
  },
  {
   "cell_type": "code",
   "execution_count": null,
   "id": "f9374981",
   "metadata": {},
   "outputs": [],
   "source": [
    "#Display the original and the laplacian & gaussian image.\n",
    "\n",
    "fig, axarr = plt.subplots(1, 4, figsize=(10, 5))\n",
    "\n",
    "axarr[0].imshow(imge, cmap=plt.get_cmap('gray'))\n",
    "axarr[0].set_title('Original Image')\n",
    "\n",
    "axarr[1].imshow(DFT.normalize2DDFTByLog(finalImges[0]), cmap=plt.get_cmap('gray'))\n",
    "axarr[1].set_title('LoG (sigma=' + str(sigmas[0]) + ')')\n",
    "\n",
    "axarr[2].imshow(DFT.normalize2DDFTByLog(finalImges[1]), cmap=plt.get_cmap('gray'))\n",
    "axarr[2].set_title('LoG (sigma=' + str(sigmas[1]) + ')')\n",
    "\n",
    "axarr[3].imshow(DFT.normalize2DDFTByLog(finalImges[2]), cmap=plt.get_cmap('gray'))\n",
    "axarr[3].set_title('LoG (sigma=' + str(sigmas[2]) + ')')\n",
    "\n",
    "plt.show()"
   ]
  }
 ],
 "metadata": {
  "kernelspec": {
   "display_name": "Python 3 (ipykernel)",
   "language": "python",
   "name": "python3"
  },
  "language_info": {
   "codemirror_mode": {
    "name": "ipython",
    "version": 3
   },
   "file_extension": ".py",
   "mimetype": "text/x-python",
   "name": "python",
   "nbconvert_exporter": "python",
   "pygments_lexer": "ipython3",
   "version": "3.8.5"
  }
 },
 "nbformat": 4,
 "nbformat_minor": 5
}
