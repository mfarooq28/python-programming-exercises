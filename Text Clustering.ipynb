{
 "cells": [
  {
   "cell_type": "code",
   "execution_count": 13,
   "id": "84eaf8fd",
   "metadata": {},
   "outputs": [
    {
     "name": "stdout",
     "output_type": "stream",
     "text": [
      "page 9\n",
      "amet 3\n",
      "porttitor 1\n",
      "waldo 9\n",
      "eget 1\n",
      "dolor 2\n",
      "morbi 1\n",
      "non 3\n",
      "arcu 2\n",
      "risus 3\n",
      "nec 3\n",
      "feugiat 2\n",
      "fermentum 1\n",
      "posuere 3\n",
      "urna 2\n",
      "tincidunt 2\n",
      "praesent 2\n",
      "quisque 3\n",
      "sagittis 2\n",
      "purus 1\n",
      "sit 2\n",
      "volutpat 1\n",
      "consequat 1\n",
      "mauris 1\n",
      "diam 2\n",
      "vel 1\n",
      "quam 2\n",
      "elementum 2\n",
      "pulvinar 2\n",
      "etiam 1\n",
      "condimentum 2\n",
      "venenatis 1\n",
      "vitae 2\n",
      "faucibus 1\n",
      "interdum 1\n",
      "lorem 1\n",
      "ipsum 1\n",
      "consectetur 1\n",
      "quis 1\n",
      "varius 1\n",
      "mattis 1\n",
      "enim 1\n",
      "tellus 1\n",
      "semper 1\n",
      "nibh 1\n",
      "sed 1\n"
     ]
    }
   ],
   "source": [
    "import re\n",
    "import string\n",
    "frequency = {}\n",
    "document_text = open('waldo.txt', 'r')\n",
    "text_string = document_text.read().lower()\n",
    "match_pattern = re.findall(r'\\b[a-z]{3,15}\\b', text_string)\n",
    "\n",
    "for word in match_pattern:\n",
    "    count = frequency.get(word,0)\n",
    "    frequency[word] = count + 1\n",
    "    \n",
    "frequency_list = frequency.keys()\n",
    "#sorted_list = sorted(frequency_list)\n",
    "\n",
    "for words in frequency_list:\n",
    "    print(words, frequency[words])"
   ]
  },
  {
   "cell_type": "code",
   "execution_count": null,
   "id": "1d45302c",
   "metadata": {},
   "outputs": [],
   "source": []
  }
 ],
 "metadata": {
  "kernelspec": {
   "display_name": "Python 3 (ipykernel)",
   "language": "python",
   "name": "python3"
  },
  "language_info": {
   "codemirror_mode": {
    "name": "ipython",
    "version": 3
   },
   "file_extension": ".py",
   "mimetype": "text/x-python",
   "name": "python",
   "nbconvert_exporter": "python",
   "pygments_lexer": "ipython3",
   "version": "3.8.5"
  }
 },
 "nbformat": 4,
 "nbformat_minor": 5
}
